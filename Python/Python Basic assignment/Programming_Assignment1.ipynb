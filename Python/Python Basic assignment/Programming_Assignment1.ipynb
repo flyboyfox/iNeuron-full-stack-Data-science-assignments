{
 "cells": [
  {
   "cell_type": "markdown",
   "id": "9eea3f51",
   "metadata": {},
   "source": [
    "## Question 1.\n",
    "Write a Python program to print \"Hello Python\"?\n",
    "#### Answer:"
   ]
  },
  {
   "cell_type": "code",
   "execution_count": 1,
   "id": "91eaa763",
   "metadata": {},
   "outputs": [
    {
     "name": "stdout",
     "output_type": "stream",
     "text": [
      "Hello Python\n"
     ]
    }
   ],
   "source": [
    "a = \"Hello Python\"\n",
    "print(a)"
   ]
  },
  {
   "cell_type": "markdown",
   "id": "991969bf",
   "metadata": {},
   "source": [
    "## Question 2.\n",
    "Write a Python program to do arithmetical operations addition and division.?\n",
    "#### Answer:"
   ]
  },
  {
   "cell_type": "code",
   "execution_count": 2,
   "id": "97c01112",
   "metadata": {},
   "outputs": [
    {
     "name": "stdout",
     "output_type": "stream",
     "text": [
      "Addition: 4\n",
      "Division: 0.3333333333333333\n"
     ]
    }
   ],
   "source": [
    "a = 1\n",
    "b = 3\n",
    "add = a + b\n",
    "print(\"Addition:\",add)\n",
    "div = a/b\n",
    "print(\"Division:\",div)"
   ]
  },
  {
   "cell_type": "markdown",
   "id": "4ec58106",
   "metadata": {},
   "source": [
    "## Question 3.\n",
    "Write a Python program to find the area of a triangle?\n",
    "#### Answer:\n"
   ]
  },
  {
   "cell_type": "code",
   "execution_count": 4,
   "id": "f557bd61",
   "metadata": {},
   "outputs": [
    {
     "name": "stdout",
     "output_type": "stream",
     "text": [
      "Enter height:10\n",
      "Enter base:10\n",
      "Area of a Triangle: 50.0\n"
     ]
    }
   ],
   "source": [
    "h = int(input(\"Enter height:\"))\n",
    "b = int(input(\"Enter base:\"))\n",
    "a = 0.5 * (b*h)\n",
    "print(\"Area of a Triangle:\",a)"
   ]
  },
  {
   "cell_type": "markdown",
   "id": "bc39e7d6",
   "metadata": {},
   "source": [
    "## Question 4.\n",
    "Write a Python program to swap two variables?\n",
    "#### Answer:"
   ]
  },
  {
   "cell_type": "code",
   "execution_count": 17,
   "id": "7bf29548",
   "metadata": {},
   "outputs": [
    {
     "name": "stdout",
     "output_type": "stream",
     "text": [
      "Enter first variable:1\n",
      "Enter Second variable:5\n",
      "initial numbers a and b: 1 and 5\n",
      "swapped numbers: 5 and 1\n"
     ]
    }
   ],
   "source": [
    "a = int(input(\"Enter first variable:\"))\n",
    "b = int(input(\"Enter Second variable:\"))\n",
    "print(\"initial numbers a and b:\",a,\"and\",b)\n",
    "temp = a\n",
    "a = b\n",
    "b = temp\n",
    "\n",
    "print(\"swapped numbers:\",a,\"and\",b)"
   ]
  },
  {
   "cell_type": "markdown",
   "id": "7eb74b62",
   "metadata": {},
   "source": [
    "## Question 5.\n",
    "Write a Python program to generate a random number?\n",
    "#### Answer:"
   ]
  },
  {
   "cell_type": "code",
   "execution_count": 16,
   "id": "38e4d6a2",
   "metadata": {},
   "outputs": [
    {
     "name": "stdout",
     "output_type": "stream",
     "text": [
      "Enter 1st number:1\n",
      "Enter 2nd number:10\n",
      "Random number between 1 and 10: 8\n"
     ]
    }
   ],
   "source": [
    "import random\n",
    "a = int(input(\"Enter 1st number:\"))\n",
    "b = int(input(\"Enter 2nd number:\"))\n",
    "r = random.randint(a,b)\n",
    "print(\"Random number between %(a)d and %(b)d:\" %{\"a\":a,\"b\":b},r)"
   ]
  }
 ],
 "metadata": {
  "kernelspec": {
   "display_name": "Python 3 (ipykernel)",
   "language": "python",
   "name": "python3"
  },
  "language_info": {
   "codemirror_mode": {
    "name": "ipython",
    "version": 3
   },
   "file_extension": ".py",
   "mimetype": "text/x-python",
   "name": "python",
   "nbconvert_exporter": "python",
   "pygments_lexer": "ipython3",
   "version": "3.9.12"
  }
 },
 "nbformat": 4,
 "nbformat_minor": 5
}
