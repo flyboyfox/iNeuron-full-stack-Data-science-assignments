{
 "cells": [
  {
   "cell_type": "markdown",
   "id": "10deb469",
   "metadata": {},
   "source": [
    "## Question 1.\n",
    "1. In the below elements which of them are values or an expression? eg:- values can be integer or string and expressions will be mathematical operators.\n",
    "* \n",
    "'hello'\n",
    "-87.8\n",
    "- \n",
    "/ \n",
    "+\t\n",
    "6 \n"
   ]
  },
  {
   "cell_type": "markdown",
   "id": "aa937045",
   "metadata": {},
   "source": [
    "#### Answers:"
   ]
  },
  {
   "cell_type": "markdown",
   "id": "e4aeabec",
   "metadata": {},
   "source": [
    "'hello' is string"
   ]
  },
  {
   "cell_type": "markdown",
   "id": "f5075a30",
   "metadata": {},
   "source": [
    "87.8 is float type"
   ]
  },
  {
   "cell_type": "markdown",
   "id": "626988c2",
   "metadata": {},
   "source": [
    "/ is a mathematical operation. It is used for division. It gives output in float as well as integer."
   ]
  },
  {
   "cell_type": "markdown",
   "id": "2fb1cf46",
   "metadata": {},
   "source": [
    "6 is an integer."
   ]
  },
  {
   "cell_type": "markdown",
   "id": "744a965e",
   "metadata": {},
   "source": [
    "## Question 2.\n",
    "\n",
    "What is the difference between string and variable?"
   ]
  },
  {
   "cell_type": "markdown",
   "id": "063f479f",
   "metadata": {},
   "source": [
    "#### Answer:\n",
    "#### Strings\n",
    "1. Strings exists within either single quotes or in double quotes. It can not be used for calculation.\n",
    "2. It holds characters.\n",
    "3. We can concatenate two strings."
   ]
  },
  {
   "cell_type": "markdown",
   "id": "85aa2946",
   "metadata": {},
   "source": [
    "#### Variables\n",
    "1. Variables are used to represent numerical data. We can do calculations and mathematical operations such as addition, multiplication, division.\n",
    "2. It holds value that can change.\n",
    "3. we cant concatenate two variables. Unless the variables kept in string."
   ]
  },
  {
   "cell_type": "markdown",
   "id": "a2bbbe47",
   "metadata": {},
   "source": [
    "## Question 3.\n",
    "Describe three different data types ?"
   ]
  },
  {
   "cell_type": "markdown",
   "id": "51d94784",
   "metadata": {},
   "source": [
    "#### Answer:\n",
    "The three different data types are.\n",
    "1. Numerical data type.\n",
    "Numeric values are represented in numeric data type. Numerical data types can be of integer, float or complex numbers. These values are represented as int, float, complex. Integers are represented by int class. It contains positive or negative whole numbers. Decimal values are represented by float. It is specified by a decimal point. Complex numbers are represented as complex. It consists of two part. real and imaginary.\n",
    "\n",
    "\n",
    "2. Sequence data type.\n",
    "Sequence data types such as list, tuple. Lists have collection of datas separated by commas. They are represented in square bracket. i.e [ ]. It is flexible as the items inside the lists can be of any data type. Lists are mutable. They can be modified. Tuples are similar to lists. They are represented in close bracket. i.e. ( ). Tuples are immutable. Tuples once created can not be modified.\n",
    "\n",
    "\n",
    "3. String data type.\n",
    "String data type is represented as str. Strings are arrays of bytes representing unicode characters."
   ]
  },
  {
   "cell_type": "markdown",
   "id": "7f3b297b",
   "metadata": {},
   "source": [
    "## Question 4.\n",
    "What is an expression made up of? What do all expressions do?"
   ]
  },
  {
   "cell_type": "markdown",
   "id": "28ccd6e7",
   "metadata": {},
   "source": [
    "#### Answer:\n",
    "Expression are combination of operators and operands. If there are more than one operator in an expression, their precedence decides which operation will be performed first.\n",
    "\n",
    "Expression are representations of value. They are different from statements. Expression contains identifiers, literals and operators. Any name that is used to define a class, function, variable module, or object is an identifier. Literals are language-independent terms and should exist independently. There are the string literals, byte literals, integer literals, floating point literals, and imaginary literals. Operators can implement the following operations using the corresponding tokens."
   ]
  },
  {
   "cell_type": "markdown",
   "id": "cd0c914f",
   "metadata": {},
   "source": [
    "## Question 5.\n",
    "This assignment statements, like spam = 10. What is the difference between an expression and a statement?"
   ]
  },
  {
   "cell_type": "markdown",
   "id": "e445077c",
   "metadata": {},
   "source": [
    "#### Answer:\n",
    "An expression is a combination of values, variables, and operators.When we type an expression at the prompt, the interpreter evaluates it, which means that it finds the value of the expression. eg: 7*3+80-30 is an example of a statement\n",
    "\n",
    "A statement is a unit of code that has an effect, like creating a variable or displaying a value.When we type a statement, the interpreter executes it, which means that it does whatever the statement says. In general, statements don’t have values. eg: variable declaration and assignment are statements because they do not return a value"
   ]
  },
  {
   "cell_type": "markdown",
   "id": "f4c3d519",
   "metadata": {},
   "source": [
    "## Question 6.\n",
    "After running the following code, what does the variable bacon contain?\n",
    "\n",
    "bacon = 22\n",
    "\n",
    "bacon + 1\n"
   ]
  },
  {
   "cell_type": "markdown",
   "id": "d2ccfeea",
   "metadata": {},
   "source": [
    "#### Answer:"
   ]
  },
  {
   "cell_type": "code",
   "execution_count": 1,
   "id": "52355254",
   "metadata": {},
   "outputs": [
    {
     "name": "stdout",
     "output_type": "stream",
     "text": [
      "23\n"
     ]
    }
   ],
   "source": [
    "bacon = 22\n",
    "bacon = bacon + 1\n",
    "print(bacon)\n"
   ]
  },
  {
   "cell_type": "markdown",
   "id": "749c32e0",
   "metadata": {},
   "source": [
    "Variable bacon is assigned as 22. In next line it is updated for increment by 1. Thats why we are getting result as 23"
   ]
  },
  {
   "cell_type": "code",
   "execution_count": 3,
   "id": "e91f2a03",
   "metadata": {},
   "outputs": [
    {
     "name": "stdout",
     "output_type": "stream",
     "text": [
      "22\n"
     ]
    }
   ],
   "source": [
    "bacon = 22\n",
    "bacon + 1\n",
    "print(bacon)"
   ]
  },
  {
   "cell_type": "markdown",
   "id": "6b1d7e43",
   "metadata": {},
   "source": [
    "Variable bacon is assigned as 22. It is not updated in next line. So we are getting the result 22."
   ]
  },
  {
   "cell_type": "markdown",
   "id": "2080f3b6",
   "metadata": {},
   "source": [
    "## Question 7.\n",
    "What should the values of the following two terms be?\n",
    "\n",
    "'spam' + 'spamspam'\n",
    "\n",
    "'spam' * 3\n"
   ]
  },
  {
   "cell_type": "markdown",
   "id": "ef8bb759",
   "metadata": {},
   "source": [
    "#### Answer:\n",
    "In first expression, its addition of two strings. i.e. String Concatenation. "
   ]
  },
  {
   "cell_type": "code",
   "execution_count": 4,
   "id": "7b3f6e40",
   "metadata": {},
   "outputs": [
    {
     "data": {
      "text/plain": [
       "'spamspamspam'"
      ]
     },
     "execution_count": 4,
     "metadata": {},
     "output_type": "execute_result"
    }
   ],
   "source": [
    "'spam' + 'spamspam'"
   ]
  },
  {
   "cell_type": "markdown",
   "id": "a5d5b9e2",
   "metadata": {},
   "source": [
    "In Second expression we are multiplying to get the expression three times. i.e. String Multiplication"
   ]
  },
  {
   "cell_type": "code",
   "execution_count": 5,
   "id": "324e5cb8",
   "metadata": {},
   "outputs": [
    {
     "data": {
      "text/plain": [
       "'spamspamspam'"
      ]
     },
     "execution_count": 5,
     "metadata": {},
     "output_type": "execute_result"
    }
   ],
   "source": [
    "'spam' * 3"
   ]
  },
  {
   "cell_type": "markdown",
   "id": "c91035b5",
   "metadata": {},
   "source": [
    "## Question 8.\n",
    "Why is eggs a valid variable name while 100 is invalid?"
   ]
  },
  {
   "cell_type": "markdown",
   "id": "4393059a",
   "metadata": {},
   "source": [
    "#### Answer:\n",
    "eggs is a variable name because variable name must start with a letter or the underscore character. A variable name cannot start with a number. Thats why eggs is a valid variable name as 100 is invalid."
   ]
  },
  {
   "cell_type": "code",
   "execution_count": 9,
   "id": "c9881127",
   "metadata": {},
   "outputs": [],
   "source": [
    "eggs = 100"
   ]
  },
  {
   "cell_type": "code",
   "execution_count": 10,
   "id": "e19c198b",
   "metadata": {},
   "outputs": [
    {
     "ename": "SyntaxError",
     "evalue": "cannot assign to literal (922978670.py, line 1)",
     "output_type": "error",
     "traceback": [
      "\u001b[1;36m  Input \u001b[1;32mIn [10]\u001b[1;36m\u001b[0m\n\u001b[1;33m    100 = 50\u001b[0m\n\u001b[1;37m    ^\u001b[0m\n\u001b[1;31mSyntaxError\u001b[0m\u001b[1;31m:\u001b[0m cannot assign to literal\n"
     ]
    }
   ],
   "source": [
    "100 = 50"
   ]
  },
  {
   "cell_type": "markdown",
   "id": "55848f3f",
   "metadata": {},
   "source": [
    "## Question 9.\n",
    "What three functions can be used to get the integer, floating-point number, or string version of a value?"
   ]
  },
  {
   "cell_type": "markdown",
   "id": "10550b71",
   "metadata": {},
   "source": [
    "#### Answer:\n",
    "\n",
    "int() is used to get integer.\n",
    "float() is used to get floating-point number.\n",
    "str() is used to ger string version of a value."
   ]
  },
  {
   "cell_type": "code",
   "execution_count": 11,
   "id": "90c42f5e",
   "metadata": {},
   "outputs": [
    {
     "name": "stdout",
     "output_type": "stream",
     "text": [
      "50\n",
      "50.55\n",
      "100\n"
     ]
    }
   ],
   "source": [
    "print(int(50))\n",
    "print(float(50.55))\n",
    "print(str(100))"
   ]
  },
  {
   "cell_type": "markdown",
   "id": "aac15ad4",
   "metadata": {},
   "source": [
    "## Question 10.\n",
    "Why does this expression cause an error? How can you fix it?\n",
    "\n",
    "'I have eaten ' + 99 + ' burritos.'\n"
   ]
  },
  {
   "cell_type": "markdown",
   "id": "d86cd5d4",
   "metadata": {},
   "source": [
    "#### Answer:"
   ]
  },
  {
   "cell_type": "code",
   "execution_count": 12,
   "id": "f7daf105",
   "metadata": {},
   "outputs": [
    {
     "ename": "TypeError",
     "evalue": "can only concatenate str (not \"int\") to str",
     "output_type": "error",
     "traceback": [
      "\u001b[1;31m---------------------------------------------------------------------------\u001b[0m",
      "\u001b[1;31mTypeError\u001b[0m                                 Traceback (most recent call last)",
      "Input \u001b[1;32mIn [12]\u001b[0m, in \u001b[0;36m<cell line: 1>\u001b[1;34m()\u001b[0m\n\u001b[1;32m----> 1\u001b[0m \u001b[38;5;124;43m'\u001b[39;49m\u001b[38;5;124;43mi have eaten\u001b[39;49m\u001b[38;5;124;43m'\u001b[39;49m\u001b[43m \u001b[49m\u001b[38;5;241;43m+\u001b[39;49m\u001b[43m \u001b[49m\u001b[38;5;241;43m99\u001b[39;49m \u001b[38;5;241m+\u001b[39m \u001b[38;5;124m'\u001b[39m\u001b[38;5;124mburritos\u001b[39m\u001b[38;5;124m'\u001b[39m\n",
      "\u001b[1;31mTypeError\u001b[0m: can only concatenate str (not \"int\") to str"
     ]
    }
   ],
   "source": [
    "'i have eaten' + 99 + 'burritos'"
   ]
  },
  {
   "cell_type": "markdown",
   "id": "0393ef26",
   "metadata": {},
   "source": [
    "We cannot add a integer type to string. for that we have to convert that integer into string type. So here 99 is not a string. we have to do typecasting to fix this error."
   ]
  },
  {
   "cell_type": "code",
   "execution_count": 15,
   "id": "c2ca4c87",
   "metadata": {},
   "outputs": [
    {
     "data": {
      "text/plain": [
       "'i have eaten 99 burritos'"
      ]
     },
     "execution_count": 15,
     "metadata": {},
     "output_type": "execute_result"
    }
   ],
   "source": [
    "'i have eaten ' + str(99) + ' burritos'"
   ]
  }
 ],
 "metadata": {
  "kernelspec": {
   "display_name": "Python 3 (ipykernel)",
   "language": "python",
   "name": "python3"
  },
  "language_info": {
   "codemirror_mode": {
    "name": "ipython",
    "version": 3
   },
   "file_extension": ".py",
   "mimetype": "text/x-python",
   "name": "python",
   "nbconvert_exporter": "python",
   "pygments_lexer": "ipython3",
   "version": "3.9.12"
  }
 },
 "nbformat": 4,
 "nbformat_minor": 5
}
