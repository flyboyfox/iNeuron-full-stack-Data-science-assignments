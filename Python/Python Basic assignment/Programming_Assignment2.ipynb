{
 "cells": [
  {
   "cell_type": "markdown",
   "id": "90df0c10",
   "metadata": {},
   "source": [
    "## Question 1.\n",
    "Write a Python program to convert kilometers to miles?\n",
    "#### Answer:"
   ]
  },
  {
   "cell_type": "code",
   "execution_count": 6,
   "id": "5c84ccfa",
   "metadata": {},
   "outputs": [],
   "source": [
    "def kmtomiles():\n",
    "    km = float(input(\"Enter the distance in KM:\"))\n",
    "    convert = km * 0.621371\n",
    "    print(\"{} km is {} miles\".format(km,convert))"
   ]
  },
  {
   "cell_type": "code",
   "execution_count": 5,
   "id": "05f18bb9",
   "metadata": {},
   "outputs": [
    {
     "name": "stdout",
     "output_type": "stream",
     "text": [
      "Enter the value in KM:50\n",
      "50.0 km is 31.068550000000002 miles\n"
     ]
    }
   ],
   "source": [
    "kmtomiles()"
   ]
  },
  {
   "cell_type": "markdown",
   "id": "08dd0d79",
   "metadata": {},
   "source": [
    "## Question 2.\n",
    "Write a Python program to convert Celsius to Fahrenheit?\n",
    "#### Answer:"
   ]
  },
  {
   "cell_type": "code",
   "execution_count": 7,
   "id": "2efad7f8",
   "metadata": {},
   "outputs": [],
   "source": [
    "def celtofar():\n",
    "    celsius = int(input(\"Enter the temperature in celsius:\"))\n",
    "    convert = (celsius * (9/5)) + 32\n",
    "    print(\"{} celsius to Fahrenheit is {}\".format(celsius,convert))"
   ]
  },
  {
   "cell_type": "code",
   "execution_count": 8,
   "id": "601e2e29",
   "metadata": {},
   "outputs": [
    {
     "name": "stdout",
     "output_type": "stream",
     "text": [
      "Enter the temperature in celsius:100\n",
      "100 celsius to Fahrenheit is 212.0\n"
     ]
    }
   ],
   "source": [
    "celtofar()"
   ]
  },
  {
   "cell_type": "markdown",
   "id": "ef8f4bb7",
   "metadata": {},
   "source": [
    "## Question 3.\n",
    "Write a Python program to display calendar?\n",
    "#### Answer:"
   ]
  },
  {
   "cell_type": "code",
   "execution_count": 22,
   "id": "09ec35eb",
   "metadata": {},
   "outputs": [
    {
     "name": "stdout",
     "output_type": "stream",
     "text": [
      "Enter year:2022\n",
      "Enter Month Number (1-12):4\n",
      "\n",
      "      March 2022\n",
      "Mo Tu We Th Fr Sa Su\n",
      "    1  2  3  4  5  6\n",
      " 7  8  9 10 11 12 13\n",
      "14 15 16 17 18 19 20\n",
      "21 22 23 24 25 26 27\n",
      "28 29 30 31\n",
      "\n"
     ]
    }
   ],
   "source": [
    "import calendar\n",
    "\n",
    "yy = int(input(\"Enter year:\"))\n",
    "mm = int(input(\"Enter Month Number (1-12):\"))\n",
    "\n",
    "print(\"\\n\", calendar.month(y, m))\n"
   ]
  },
  {
   "cell_type": "markdown",
   "id": "3d9b9c0b",
   "metadata": {},
   "source": [
    "## Question 4.\n",
    "Write a Python program to solve quadratic equation?\n",
    "#### Answer:\n"
   ]
  },
  {
   "cell_type": "code",
   "execution_count": 26,
   "id": "7841f143",
   "metadata": {},
   "outputs": [
    {
     "name": "stdout",
     "output_type": "stream",
     "text": [
      "Enter co-efficient of A:1\n",
      "Enter co-efficient of B:2\n",
      "Enter co-efficient of C:1\n",
      "Roots are real: -1.0 -1.0\n"
     ]
    }
   ],
   "source": [
    "import math\n",
    "\n",
    "a = int(input(\"Enter co-efficient of A:\")) ## Co-efficient of A\n",
    "b = int(input(\"Enter co-efficient of B:\")) ## Co-efficient of B\n",
    "c = int(input(\"Enter co-efficient of C:\")) ## Co-efficient of C\n",
    "\n",
    "D = ((b*b) - (4*a*c))/(2*a) ## Discriminant\n",
    "\n",
    "if D > 0:\n",
    "    root1 = -b/(2*a)\n",
    "    root2 = -b/(2*a)\n",
    "    print(\"Roots are real and equal\", root1, root2)\n",
    "elif D == 0:\n",
    "    root1 = (-b + math.sqrt(D))/(2*a)\n",
    "    root2 = (-b - math.sqrt(D))/(2*a)\n",
    "    print(\"Roots are real:\", root1,root2)\n",
    "else:\n",
    "    root1 = (-b + math.sqrt(D))/(2*a)\n",
    "    root2 = (-b - math.sqrt(D))/(2*a)\n",
    "    print(\"Roots do not exist or roots are imaginary:\", root1, root2)\n",
    "    "
   ]
  },
  {
   "cell_type": "markdown",
   "id": "94416f78",
   "metadata": {},
   "source": [
    "## Question 5.\n",
    "Write a Python program to swap two variables without temp variable?\n",
    "#### Answer:"
   ]
  },
  {
   "cell_type": "code",
   "execution_count": 33,
   "id": "9eed427c",
   "metadata": {},
   "outputs": [
    {
     "name": "stdout",
     "output_type": "stream",
     "text": [
      "Enter 1st variable:4\n",
      "Enter 2nd variable:5\n",
      "Initial numbers are  4 and 5\n",
      "Swapped numbers are 5 and 4\n"
     ]
    }
   ],
   "source": [
    "num1 = int(input(\"Enter 1st variable:\")) ## 10\n",
    "num2 = int(input(\"Enter 2nd variable:\")) ## 30\n",
    "\n",
    "print(\"Initial numbers are \",num1,\"and\",num2)\n",
    "\n",
    "num1 = num1 + num2 ## 10 + 30 = 40\n",
    "num2 = num1 - num2 ## 40 - 30 = 10\n",
    "num1 = num1 - num2 ## 40 - 10 = 30\n",
    "\n",
    "print(\"Swapped numbers are\", num1,\"and\",num2)"
   ]
  }
 ],
 "metadata": {
  "kernelspec": {
   "display_name": "Python 3 (ipykernel)",
   "language": "python",
   "name": "python3"
  },
  "language_info": {
   "codemirror_mode": {
    "name": "ipython",
    "version": 3
   },
   "file_extension": ".py",
   "mimetype": "text/x-python",
   "name": "python",
   "nbconvert_exporter": "python",
   "pygments_lexer": "ipython3",
   "version": "3.9.12"
  }
 },
 "nbformat": 4,
 "nbformat_minor": 5
}
