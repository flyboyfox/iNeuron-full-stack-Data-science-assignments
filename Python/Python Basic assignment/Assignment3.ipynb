{
 "cells": [
  {
   "cell_type": "markdown",
   "id": "43376c74",
   "metadata": {},
   "source": [
    "#### Question 1.\n",
    "Why are functions advantageous to have in your programs?\n",
    "\n",
    "#### Answer:\n",
    "With the help of functions, we can avoid rewriting the same logic or code again and again in a program. In a single Program, we can call Python functions anywhere and also call multiple times. We can track a large Python program easily when it is divided into multiple functions. Functions reduce the need for duplicate code. This makes programs shorter, easier to read, and easier to update. The main advantage of functions is code Reusability."
   ]
  },
  {
   "cell_type": "markdown",
   "id": "22fe36d6",
   "metadata": {},
   "source": [
    "#### Question 2.\n",
    "When does the code in a function run: when it's specified or when it's called?\n",
    "\n",
    "#### Answer:\n",
    "The code in a function runs when it is called."
   ]
  },
  {
   "cell_type": "markdown",
   "id": "a0570815",
   "metadata": {},
   "source": [
    "#### Question 3.\n",
    "What statement creates a function?\n",
    "\n",
    "#### Answer:\n",
    "Function is defined using def keyword. Function blocks begin with the keyword def followed by the function name and parentheses ().\n",
    "\n",
    "Syntax:\n",
    "\n",
    "def function_name(parameters):\n",
    "\n",
    "                \"\"\"doc string\"\"\" \n",
    "\n",
    "                   function body \n",
    "\n",
    "                   return value"
   ]
  },
  {
   "cell_type": "markdown",
   "id": "1c8ff62d",
   "metadata": {},
   "source": [
    "#### Question 4.\n",
    "What is the difference between a function and a function call?\n",
    "\n",
    "#### Answer:\n",
    "A function is a block of code that does a particular operation and returns a result. It usually accepts inputs as parameters and returns a result. The parameters are not mandatory. A function call is the code used to pass control to a function."
   ]
  },
  {
   "cell_type": "markdown",
   "id": "72399747",
   "metadata": {},
   "source": [
    "#### Question 5.\n",
    "How many global scopes are there in a Python program? How many local scopes?\n",
    "\n",
    "#### Answer:\n",
    "There is one global scope, and a local scope is created whenever a function is called."
   ]
  },
  {
   "cell_type": "markdown",
   "id": "abddc3e7",
   "metadata": {},
   "source": [
    "#### Question 6.\n",
    "What happens to variables in a local scope when the function call returns?\n",
    "\n",
    "#### Answer:\n",
    "When a function returns, the local scope is destroyed, and all the variables in it are forgotten."
   ]
  },
  {
   "cell_type": "markdown",
   "id": "ec764502",
   "metadata": {},
   "source": [
    "#### Question 7.\n",
    "What is the concept of a return value? Is it possible to have a return value in an expression?\n",
    "\n",
    "#### Answer:\n",
    " A return statement is used to end the execution of the function call and returns the result. Yes, It is possible to have a return value in an expression."
   ]
  },
  {
   "cell_type": "markdown",
   "id": "5138d9aa",
   "metadata": {},
   "source": [
    "#### Question 8.\n",
    "If a function does not have a return statement, what is the return value of a call to that function?\n",
    "#### Answer:\n",
    "If a function does not have a return statement, none is the return value of a call to that function."
   ]
  },
  {
   "cell_type": "markdown",
   "id": "094232b4",
   "metadata": {},
   "source": [
    "#### Question 9.\n",
    "How do you make a function variable refer to the global variable?\n",
    "#### Answer:\n",
    "A global statement will force a variable in a function to refer to the global variable. If you want to refer to a global variable in a function, you can use the global keyword to declare which variables are global."
   ]
  },
  {
   "cell_type": "markdown",
   "id": "226f530b",
   "metadata": {},
   "source": [
    "#### Question 10.\n",
    "What is the data type of None?\n",
    "#### Answer:\n",
    "NoneType is the data type of None."
   ]
  },
  {
   "cell_type": "code",
   "execution_count": 6,
   "id": "aed89caf",
   "metadata": {},
   "outputs": [
    {
     "data": {
      "text/plain": [
       "NoneType"
      ]
     },
     "execution_count": 6,
     "metadata": {},
     "output_type": "execute_result"
    }
   ],
   "source": [
    "type(None)"
   ]
  },
  {
   "cell_type": "markdown",
   "id": "80cbc45f",
   "metadata": {},
   "source": [
    "#### Question 11.\n",
    "What does the sentence import areallyourpetsnamederic do?\n",
    "#### Answer:\n",
    "It will import a module name areallyourpetsnamederic to current working py file."
   ]
  },
  {
   "cell_type": "markdown",
   "id": "84f29479",
   "metadata": {},
   "source": [
    "#### Question 12.\n",
    "If you had a bacon() feature in a spam module, what would you call it after importing spam?\n",
    "#### Answer:\n",
    "spam.bacon()"
   ]
  },
  {
   "cell_type": "markdown",
   "id": "99622893",
   "metadata": {},
   "source": [
    "#### Question 13.\n",
    "What can you do to save a programme from crashing if it encounters an error?\n",
    "#### Answer:\n",
    "Exception handling is done to save a program from crashing if it encounters an error. i.e. try and except, try except else."
   ]
  },
  {
   "cell_type": "markdown",
   "id": "ae3d37b9",
   "metadata": {},
   "source": [
    "#### Question 14.\n",
    "What is the purpose of the try clause? What is the purpose of the except clause?\n",
    "#### Answer:\n",
    "The try block lets to test a block of code for errors. The except block lets to handle the error."
   ]
  }
 ],
 "metadata": {
  "kernelspec": {
   "display_name": "Python 3 (ipykernel)",
   "language": "python",
   "name": "python3"
  },
  "language_info": {
   "codemirror_mode": {
    "name": "ipython",
    "version": 3
   },
   "file_extension": ".py",
   "mimetype": "text/x-python",
   "name": "python",
   "nbconvert_exporter": "python",
   "pygments_lexer": "ipython3",
   "version": "3.9.12"
  }
 },
 "nbformat": 4,
 "nbformat_minor": 5
}
