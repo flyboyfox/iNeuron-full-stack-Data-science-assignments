{
 "cells": [
  {
   "cell_type": "markdown",
   "id": "f09dee14",
   "metadata": {},
   "source": [
    "## Question 1.\n",
    "\n",
    "What are the two values of the Boolean data type? How do you write them?"
   ]
  },
  {
   "cell_type": "markdown",
   "id": "5a33a42b",
   "metadata": {},
   "source": [
    "#### Answer:\n",
    "\n",
    "There are two types of Boolean data type. They are True and False."
   ]
  },
  {
   "cell_type": "code",
   "execution_count": 2,
   "id": "9745f885",
   "metadata": {},
   "outputs": [
    {
     "name": "stdout",
     "output_type": "stream",
     "text": [
      "<class 'bool'>\n",
      "<class 'bool'>\n"
     ]
    }
   ],
   "source": [
    "x = True\n",
    "y = False\n",
    "print(type(x))\n",
    "print(type(y))"
   ]
  },
  {
   "cell_type": "markdown",
   "id": "44b077a2",
   "metadata": {},
   "source": [
    "## Question 2.\n",
    "\n",
    "What are the three different types of Boolean operators?"
   ]
  },
  {
   "cell_type": "markdown",
   "id": "f7fb399d",
   "metadata": {},
   "source": [
    "#### Answer:\n",
    "\n",
    "The three types of Boolean operators are AND OR NOT."
   ]
  },
  {
   "cell_type": "code",
   "execution_count": 9,
   "id": "30e3353b",
   "metadata": {},
   "outputs": [
    {
     "name": "stdout",
     "output_type": "stream",
     "text": [
      "AND Operator\n",
      "OR operator\n",
      "NOT Operator\n"
     ]
    }
   ],
   "source": [
    "a = 10\n",
    "b = 30\n",
    "if a<b and a>5:\n",
    "    print(\"AND Operator\")\n",
    "else:\n",
    "    pass\n",
    "if a>b or b==30:\n",
    "    print(\"OR operator\")\n",
    "else:\n",
    "    pass\n",
    "if a != 30:\n",
    "    print(\"NOT Operator\")\n",
    "else:\n",
    "    pass"
   ]
  },
  {
   "cell_type": "markdown",
   "id": "06a897be",
   "metadata": {},
   "source": [
    "## Question 3.\n",
    "\n",
    "Make a list of each Boolean operator's truth tables (i.e. every possible combination of Boolean values for the operator and what it evaluate )."
   ]
  },
  {
   "cell_type": "markdown",
   "id": "c78a75a7",
   "metadata": {},
   "source": [
    "#### Answer:\n",
    "\n",
    "Truth table of AND Boolean Operator:\n",
    "\n",
    "1. True and True is True\n",
    "2. True and False is False\n",
    "3. False and True is False\n",
    "4. False and False is False\n",
    "\n",
    "Truth table of OR Boolean operator:\n",
    "\n",
    "1. True and True is True\n",
    "2. True and False is True\n",
    "3. False and True is True\n",
    "4. False and False is False\n",
    "\n",
    "Truth table of NOT Boolean operator:\n",
    "1. True not is False False not is True\n"
   ]
  },
  {
   "cell_type": "markdown",
   "id": "221371a1",
   "metadata": {},
   "source": [
    "## Question 4.\n",
    "\n",
    "What are the values of the following expressions?\n",
    "\n",
    "(5 > 4) and (3 == 5)\n",
    "\n",
    "not (5 > 4)\n",
    "\n",
    "(5 > 4) or (3 == 5)\n",
    "\n",
    "not ((5 > 4) or (3 == 5))\n",
    "\n",
    "(True and True) and (True == False)\n",
    "\n",
    "(not False) or (not True)\n"
   ]
  },
  {
   "cell_type": "markdown",
   "id": "a8742983",
   "metadata": {},
   "source": [
    "#### Answer:\n"
   ]
  },
  {
   "cell_type": "code",
   "execution_count": 16,
   "id": "33214f0b",
   "metadata": {},
   "outputs": [
    {
     "name": "stdout",
     "output_type": "stream",
     "text": [
      "(5 > 4) and (3 == 5): False\n",
      "not (5 > 4): False\n",
      "(5 > 4) or (3 == 5): True\n",
      "not ((5 > 4) or (3 == 5)): False\n",
      "(True and True) and (True == False): False\n",
      "(not False) or (not True): True\n"
     ]
    }
   ],
   "source": [
    "print(\"(5 > 4) and (3 == 5):\",(5 > 4) and (3 == 5))\n",
    "print(\"not (5 > 4):\",not (5 > 4))\n",
    "print(\"(5 > 4) or (3 == 5):\",(5 > 4) or (3 == 5))\n",
    "print(\"not ((5 > 4) or (3 == 5)):\",not ((5 > 4) or (3 == 5)))\n",
    "print(\"(True and True) and (True == False):\",(True and True) and (True == False))\n",
    "print(\"(not False) or (not True):\",(not False) or (not True))"
   ]
  },
  {
   "cell_type": "markdown",
   "id": "08b0209f",
   "metadata": {},
   "source": [
    "## Question 5.\n",
    "\n",
    "What are the six comparison operators?"
   ]
  },
  {
   "cell_type": "markdown",
   "id": "759749c1",
   "metadata": {},
   "source": [
    "#### Answer:\n",
    "\n",
    "The six comparision operators are \n",
    "1. less than ( < )\n",
    "2. less than or equal to ( <= )\n",
    "3. greater than ( > )\n",
    "4. greater than or equal to ( >= )\n",
    "5. equal to ( == )\n",
    "6. not equal to ( != )"
   ]
  },
  {
   "cell_type": "markdown",
   "id": "65f6d3cb",
   "metadata": {},
   "source": [
    "## Question 6.\n",
    "\n",
    "How do you tell the difference between the equal to and assignment operators? Describe a condition and when you would use one."
   ]
  },
  {
   "cell_type": "markdown",
   "id": "a226559d",
   "metadata": {},
   "source": [
    "#### Answer:\n",
    "\n",
    "== is the equal to operator that compares two values and evaluates to a Boolean, while = is that assignment operator that stores a value in a variable."
   ]
  },
  {
   "cell_type": "code",
   "execution_count": 18,
   "id": "7cfe1088",
   "metadata": {},
   "outputs": [
    {
     "name": "stdout",
     "output_type": "stream",
     "text": [
      "True\n"
     ]
    }
   ],
   "source": [
    "a = 5\n",
    "b = 5\n",
    "if a==b:\n",
    "    print (True)"
   ]
  },
  {
   "cell_type": "markdown",
   "id": "5d9ab277",
   "metadata": {},
   "source": [
    "## Question 7.\n",
    "\n",
    "Identify the three blocks in this code:\n",
    "\n",
    "\n",
    "spam = 0\n",
    "\n",
    "if spam == 10:\n",
    "\n",
    "print('eggs')\n",
    "\n",
    "if spam > 5:\n",
    "\n",
    "print('bacon')\n",
    "\n",
    "else:\n",
    "\n",
    "print('ham')\n",
    "\n",
    "print('spam')\n",
    "\n",
    "print('spam')\n"
   ]
  },
  {
   "cell_type": "markdown",
   "id": "51f7a6b5",
   "metadata": {},
   "source": [
    "#### Answer:"
   ]
  },
  {
   "cell_type": "code",
   "execution_count": 22,
   "id": "5bf7c481",
   "metadata": {},
   "outputs": [
    {
     "name": "stdout",
     "output_type": "stream",
     "text": [
      "ham\n",
      "spam\n",
      "spam\n"
     ]
    }
   ],
   "source": [
    "spam = 0\n",
    "if spam == 10:     ## Block 1\n",
    "    print('eggs')\n",
    "if spam > 5:       ## Block 2\n",
    "    print('bacon')\n",
    "else:              ## Block 3\n",
    "    print('ham')\n",
    "    print('spam')\n",
    "    print('spam')"
   ]
  },
  {
   "cell_type": "markdown",
   "id": "4557d43c",
   "metadata": {},
   "source": [
    "## Question 8.\n",
    "\n",
    "Write code that prints Hello if 1 is stored in spam, prints Howdy if 2 is stored in spam, and prints Greetings! if anything else is stored in spam."
   ]
  },
  {
   "cell_type": "markdown",
   "id": "6664ccf2",
   "metadata": {},
   "source": [
    "#### Answer:"
   ]
  },
  {
   "cell_type": "code",
   "execution_count": 34,
   "id": "90fd8193",
   "metadata": {},
   "outputs": [
    {
     "name": "stdout",
     "output_type": "stream",
     "text": [
      "Hello\n",
      "Howdy\n",
      "Greetings\n"
     ]
    }
   ],
   "source": [
    "def spaming(spam):\n",
    "    \n",
    "    if spam == 1:\n",
    "        print(\"Hello\")\n",
    "    elif spam == 2:\n",
    "        print(\"Howdy\")\n",
    "    else:\n",
    "        print(\"Greetings\")\n",
    "\n",
    "spaming(1)\n",
    "spaming(2)\n",
    "spaming(3)"
   ]
  },
  {
   "cell_type": "markdown",
   "id": "07f3e170",
   "metadata": {},
   "source": [
    "## Question 9.\n",
    "\n",
    "If your programme is stuck in an endless loop, what keys you’ll press?"
   ]
  },
  {
   "cell_type": "markdown",
   "id": "59a0a7af",
   "metadata": {},
   "source": [
    "#### Answer:\n",
    "An infinite loop is a loop that runs indefinitely and it only stops with external intervention or when a break statement is found. we can stop an infinite loop by pressing with CTRL + C"
   ]
  },
  {
   "cell_type": "markdown",
   "id": "582e51dc",
   "metadata": {},
   "source": [
    "## Question 10.\n",
    "\n",
    "How can you tell the difference between break and continue?"
   ]
  },
  {
   "cell_type": "markdown",
   "id": "8aee88b1",
   "metadata": {},
   "source": [
    "#### Answer:\n",
    "\n",
    "Break: break statement will move the execution outside the loop if break condtion is satisfied.\n",
    "\n",
    "Continue: continue statement will move the execution to the start of the loop."
   ]
  },
  {
   "cell_type": "markdown",
   "id": "83ad9736",
   "metadata": {},
   "source": [
    "## Question 11.\n",
    "In a for loop, what is the difference between range(10), range(0, 10), and range(0, 10, 1)?"
   ]
  },
  {
   "cell_type": "markdown",
   "id": "aa8343bd",
   "metadata": {},
   "source": [
    "#### Answer:\n",
    "\n",
    "range(10): The range will start from 0 and continue till it reaches 9.\n",
    "\n",
    "range(0,10): In this case, we are assigning it to start from 0 and reach till 10th index.\n",
    "\n",
    "range(0,10,1): In this case, It tells the loop to increase the variable by 1 on each iteration"
   ]
  },
  {
   "cell_type": "code",
   "execution_count": 55,
   "id": "dcb1d4f6",
   "metadata": {},
   "outputs": [
    {
     "name": "stdout",
     "output_type": "stream",
     "text": [
      "0 1 2 3 4 5 6 7 8 9 "
     ]
    }
   ],
   "source": [
    "for i in range(10):\n",
    "    print (i, end=\" \")"
   ]
  },
  {
   "cell_type": "code",
   "execution_count": 54,
   "id": "81f2757e",
   "metadata": {},
   "outputs": [
    {
     "name": "stdout",
     "output_type": "stream",
     "text": [
      "0 1 2 3 4 5 6 7 8 9 "
     ]
    }
   ],
   "source": [
    "for i in range(0,10):\n",
    "    print(i, end = \" \")"
   ]
  },
  {
   "cell_type": "code",
   "execution_count": 53,
   "id": "6443ad57",
   "metadata": {},
   "outputs": [
    {
     "name": "stdout",
     "output_type": "stream",
     "text": [
      "0 1 2 3 4 5 6 7 8 9 "
     ]
    }
   ],
   "source": [
    "for i in range(0,10,1):\n",
    "    print(i, end=\" \")"
   ]
  },
  {
   "cell_type": "markdown",
   "id": "5e82cc34",
   "metadata": {},
   "source": [
    "## Question 12.\n",
    "Write a short program that prints the numbers 1 to 10 using a for loop. Then write an equivalent program that prints the numbers 1 to 10 using a while loop."
   ]
  },
  {
   "cell_type": "markdown",
   "id": "5044334a",
   "metadata": {},
   "source": [
    "#### Answer:\n",
    "For Loop"
   ]
  },
  {
   "cell_type": "code",
   "execution_count": 51,
   "id": "4c7aa5c6",
   "metadata": {},
   "outputs": [
    {
     "name": "stdout",
     "output_type": "stream",
     "text": [
      "1 2 3 4 5 6 7 8 9 10 \n",
      "\n"
     ]
    }
   ],
   "source": [
    "for i in range(1,11):\n",
    "    print(i,end =\" \")"
   ]
  },
  {
   "cell_type": "markdown",
   "id": "005e78bb",
   "metadata": {},
   "source": [
    "While Loop"
   ]
  },
  {
   "cell_type": "code",
   "execution_count": 52,
   "id": "92c4f08d",
   "metadata": {},
   "outputs": [
    {
     "name": "stdout",
     "output_type": "stream",
     "text": [
      "1 2 3 4 5 6 7 8 9 10 "
     ]
    }
   ],
   "source": [
    "i = 1\n",
    "while(i<=10):\n",
    "    print(i, end = \" \")\n",
    "    i+=1    "
   ]
  },
  {
   "cell_type": "markdown",
   "id": "a6d4a551",
   "metadata": {},
   "source": [
    "## Question 13.\n",
    "If you had a function named bacon() inside a module named spam, how would you call it after importing spam?"
   ]
  },
  {
   "cell_type": "markdown",
   "id": "0f15b2ca",
   "metadata": {},
   "source": [
    "#### Answer:\n",
    "we will call it with spam.bacon()"
   ]
  }
 ],
 "metadata": {
  "kernelspec": {
   "display_name": "Python 3 (ipykernel)",
   "language": "python",
   "name": "python3"
  },
  "language_info": {
   "codemirror_mode": {
    "name": "ipython",
    "version": 3
   },
   "file_extension": ".py",
   "mimetype": "text/x-python",
   "name": "python",
   "nbconvert_exporter": "python",
   "pygments_lexer": "ipython3",
   "version": "3.9.12"
  }
 },
 "nbformat": 4,
 "nbformat_minor": 5
}
