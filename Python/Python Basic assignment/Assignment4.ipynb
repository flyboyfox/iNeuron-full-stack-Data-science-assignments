{
 "cells": [
  {
   "cell_type": "markdown",
   "id": "63341744",
   "metadata": {},
   "source": [
    "## Question 1.\n",
    "What exactly is [ ]?\n",
    "#### Answer:\n",
    "This represent empty list. And can be used to create list to a variable."
   ]
  },
  {
   "cell_type": "markdown",
   "id": "805b13ef",
   "metadata": {},
   "source": [
    "## Question 2.\n",
    "In a list of values stored in a variable called spam, how would you assign the value 'hello' as the third value? (Assume [2, 4, 6, 8, 10] are in spam.)\n",
    "#### Answer:\n",
    "With the help of indexing. we can assign the value 'hello' as the third value."
   ]
  },
  {
   "cell_type": "code",
   "execution_count": 1,
   "id": "954bad8f",
   "metadata": {},
   "outputs": [
    {
     "name": "stdout",
     "output_type": "stream",
     "text": [
      "[2, 4, 'hello', 8, 10]\n"
     ]
    }
   ],
   "source": [
    "spam = [2,4,6,8,10]\n",
    "spam[2] = 'hello'\n",
    "print(spam)"
   ]
  },
  {
   "cell_type": "markdown",
   "id": "2d6bf480",
   "metadata": {},
   "source": [
    "## Let's pretend the spam includes the list ['a', 'b', 'c', 'd'] for the next three queries."
   ]
  },
  {
   "cell_type": "markdown",
   "id": "87ec0803",
   "metadata": {},
   "source": [
    "## Question 3.\n",
    "What is the value of spam[int(int('3' * 2) / 11)]?\n",
    "#### Answer:"
   ]
  },
  {
   "cell_type": "code",
   "execution_count": 2,
   "id": "f6c47fad",
   "metadata": {},
   "outputs": [
    {
     "name": "stdout",
     "output_type": "stream",
     "text": [
      "d\n"
     ]
    }
   ],
   "source": [
    "spam = ['a','b','c','d']\n",
    "result = spam[int(int('3'*2)/11)]\n",
    "print(result)"
   ]
  },
  {
   "cell_type": "markdown",
   "id": "dbeedb4f",
   "metadata": {},
   "source": [
    "## Question 4.\n",
    "What is the value of spam[-1]?\n",
    "#### Answer:\n",
    "Its Negative indexing. It will return d."
   ]
  },
  {
   "cell_type": "code",
   "execution_count": 4,
   "id": "90c41765",
   "metadata": {},
   "outputs": [
    {
     "data": {
      "text/plain": [
       "'d'"
      ]
     },
     "execution_count": 4,
     "metadata": {},
     "output_type": "execute_result"
    }
   ],
   "source": [
    "spam = ['a','b','c','d']\n",
    "spam[-1]"
   ]
  },
  {
   "cell_type": "markdown",
   "id": "496e885d",
   "metadata": {},
   "source": [
    "## Question 5.\n",
    "What is the value of spam[:2]?\n",
    "#### Answer:\n",
    "It will return the first two value from 0 to 2 index number, exculding 2."
   ]
  },
  {
   "cell_type": "code",
   "execution_count": 5,
   "id": "2082d1b9",
   "metadata": {},
   "outputs": [
    {
     "data": {
      "text/plain": [
       "['a', 'b']"
      ]
     },
     "execution_count": 5,
     "metadata": {},
     "output_type": "execute_result"
    }
   ],
   "source": [
    "spam = ['a','b','c','d']\n",
    "spam[:2]"
   ]
  },
  {
   "cell_type": "markdown",
   "id": "c5883f92",
   "metadata": {},
   "source": [
    "## Let's pretend bacon has the list [3.14, 'cat,' 11, 'cat,' True] for the next three questions."
   ]
  },
  {
   "cell_type": "markdown",
   "id": "7f0d5479",
   "metadata": {},
   "source": [
    "## Question 6.\n",
    "What is the value of bacon.index('cat')?\n",
    "#### Answer:\n",
    "Two cats are present in the list. In index method, the first occurence is taken into consideration. So the value will be 1."
   ]
  },
  {
   "cell_type": "code",
   "execution_count": 6,
   "id": "e68f3a29",
   "metadata": {},
   "outputs": [
    {
     "name": "stdout",
     "output_type": "stream",
     "text": [
      "1\n"
     ]
    }
   ],
   "source": [
    "bacon = [3.14,'cat',11,'cat',True]\n",
    "result = bacon.index('cat')\n",
    "print(result)"
   ]
  },
  {
   "cell_type": "markdown",
   "id": "a6217117",
   "metadata": {},
   "source": [
    "## Question 7.\n",
    "How does bacon.append(99) change the look of the list value in bacon?\n",
    "#### Answer:\n",
    "Append method is used to add element to the end of list. Here 99 will be added towards the end of list."
   ]
  },
  {
   "cell_type": "code",
   "execution_count": 10,
   "id": "7801c33d",
   "metadata": {},
   "outputs": [
    {
     "name": "stdout",
     "output_type": "stream",
     "text": [
      "[3.14, 'cat', 11, 'cat', True, 99]\n"
     ]
    }
   ],
   "source": [
    "bacon = [3.14,'cat',11,'cat',True]\n",
    "bacon.append(99)\n",
    "print(bacon)"
   ]
  },
  {
   "cell_type": "markdown",
   "id": "2635350a",
   "metadata": {},
   "source": [
    "## Question 8.\n",
    "How does bacon.remove('cat') change the look of the list in bacon?\n",
    "#### Answer:\n",
    "There are two cat present in the list. It will remove the first occurrence of cat from the list."
   ]
  },
  {
   "cell_type": "code",
   "execution_count": 12,
   "id": "01fdfd25",
   "metadata": {},
   "outputs": [
    {
     "name": "stdout",
     "output_type": "stream",
     "text": [
      "[3.14, 'cat', 11, 'cat', True]\n",
      "[3.14, 11, 'cat', True]\n"
     ]
    }
   ],
   "source": [
    "bacon = [3.14,'cat',11,'cat',True]\n",
    "print(bacon)\n",
    "bacon.remove('cat')\n",
    "print(bacon)"
   ]
  },
  {
   "cell_type": "markdown",
   "id": "1e75ff5c",
   "metadata": {},
   "source": [
    "## Question 9.\n",
    "What are the list concatenation and list replication operators?\n",
    "#### Answer:\n",
    "'+' is the operator for list concatenation, '*' the operator for replication."
   ]
  },
  {
   "cell_type": "code",
   "execution_count": 26,
   "id": "55272b76",
   "metadata": {},
   "outputs": [
    {
     "name": "stdout",
     "output_type": "stream",
     "text": [
      "Concatenation: [1, 3, 4, 5, 6, 7, 8, 9, 10, 11]\n",
      "Replication: [1, 3, 4, 5, 6, 1, 3, 4, 5, 6, 1, 3, 4, 5, 6]\n"
     ]
    }
   ],
   "source": [
    "a = [1,3,4,5,6]\n",
    "b = [7,8,9,10,11]\n",
    "print(\"Concatenation:\",a+b)\n",
    "print(\"Replication:\",a*3)"
   ]
  },
  {
   "cell_type": "markdown",
   "id": "45abcd1f",
   "metadata": {},
   "source": [
    "## Question 10.\n",
    "What is difference between the list methods append() and insert()?\n",
    "#### Answer:\n",
    "append() adds value at the end of the list. insert() is used to add values anywhere in the list through indexing."
   ]
  },
  {
   "cell_type": "code",
   "execution_count": 22,
   "id": "54c329f7",
   "metadata": {},
   "outputs": [
    {
     "name": "stdout",
     "output_type": "stream",
     "text": [
      "Original list: [1, 2, 3, 4, 5, 6]\n",
      "append 10: [1, 2, 3, 4, 5, 6, 10]\n",
      "Inserting 1000 after 5: [1, 2, 3, 4, 5, 1000, 6, 10]\n"
     ]
    }
   ],
   "source": [
    "l = [1,2,3,4,5,6]\n",
    "print(\"Original list:\",l)\n",
    "l.append(10)\n",
    "print(\"append 10:\",l)\n",
    "l.insert(5,1000)\n",
    "print(\"Inserting 1000 after 5:\",l)"
   ]
  },
  {
   "cell_type": "markdown",
   "id": "e1fbaef2",
   "metadata": {},
   "source": [
    "## Question 11.\n",
    "What are the two methods for removing items from a list?\n",
    "#### Answer:\n",
    "remove(), pop() are the two methods for removing items from a list. remove() removes the given very first element matching from the list.The pop() method will return the element removed based on the index given."
   ]
  },
  {
   "cell_type": "code",
   "execution_count": 24,
   "id": "b62e748d",
   "metadata": {},
   "outputs": [
    {
     "name": "stdout",
     "output_type": "stream",
     "text": [
      "Orignal list: [1, 2, 3, 4, 5, 6]\n",
      "3 is removed from list: [1, 2, 4, 5, 6]\n",
      "5 is removed from list: [1, 2, 5, 6]\n"
     ]
    }
   ],
   "source": [
    "l = [1,2,3,4,5,6]\n",
    "print(\"Orignal list:\",l)\n",
    "l.remove(3)\n",
    "print(\"3 is removed from list:\",l)\n",
    "l.pop(2)\n",
    "print(\"4 is removed from list:\",l)"
   ]
  },
  {
   "cell_type": "markdown",
   "id": "a58b3895",
   "metadata": {},
   "source": [
    "## Question 12.\n",
    "Describe how list values and string values are identical.\n",
    "#### Answer:\n",
    "Both lists and strings can be passed to len() function, have indexes and slices, be used in for loops, be concatenated or replicated, and be used with the in and not in operators."
   ]
  },
  {
   "cell_type": "markdown",
   "id": "eb1bb5b5",
   "metadata": {},
   "source": [
    "## Question 13.\n",
    "What's the difference between tuples and lists?\n",
    "#### Answer:\n",
    "Tuples are represented using parentheses( ), while lists use the square brackets[ ]. The primary difference between tuples and lists is that tuples are immutable as opposed to lists which are mutable. Therefore, it is possible to change a list but not a tuple. The contents of a tuple cannot change once they have been created."
   ]
  },
  {
   "cell_type": "markdown",
   "id": "3e468575",
   "metadata": {},
   "source": [
    "## Question 14.\n",
    "How do you type a tuple value that only contains the integer 42?\n",
    "#### Answer:\n",
    "42, The trailing comma is mandatory. otherwise its considered as a int by python Interpreter."
   ]
  },
  {
   "cell_type": "code",
   "execution_count": 25,
   "id": "04d29479",
   "metadata": {},
   "outputs": [
    {
     "name": "stdout",
     "output_type": "stream",
     "text": [
      "<class 'int'>\n",
      "<class 'tuple'>\n"
     ]
    }
   ],
   "source": [
    "a = (42)\n",
    "b = (42,)\n",
    "print(type(a))\n",
    "print(type(b))"
   ]
  },
  {
   "cell_type": "markdown",
   "id": "2301ae26",
   "metadata": {},
   "source": [
    "## Question 15.\n",
    "How do you get a list value's tuple form? How do you get a tuple value's list form?\n",
    "#### Answer:\n",
    "tuple() function we can get list value's tuple form. list() function we can get tuple value's list form."
   ]
  },
  {
   "cell_type": "markdown",
   "id": "ef36888a",
   "metadata": {},
   "source": [
    "## Question 16.\n",
    "Variables that \"contain\" list values are not necessarily lists themselves. Instead, what do they contain?\n",
    "#### Answer:\n",
    "References to list values. Such as index number, which is used to identify the location of the values present in the list."
   ]
  },
  {
   "cell_type": "markdown",
   "id": "e7bafb35",
   "metadata": {},
   "source": [
    "## Question 17.\n",
    "How do you distinguish between copy.copy() and copy.deepcopy()?\n",
    "#### Answer:\n",
    "The copy.copy() function will do a shallow copy of a list, while the copy.deepcopy() function will do a deep copy of a list. A shallow copy constructs a new compound object and then (to the extent possible) inserts references into it to the objects found in the original.A deep copy constructs a new compound object and then, recursively, inserts copies into it of the objects found in the original."
   ]
  }
 ],
 "metadata": {
  "kernelspec": {
   "display_name": "Python 3 (ipykernel)",
   "language": "python",
   "name": "python3"
  },
  "language_info": {
   "codemirror_mode": {
    "name": "ipython",
    "version": 3
   },
   "file_extension": ".py",
   "mimetype": "text/x-python",
   "name": "python",
   "nbconvert_exporter": "python",
   "pygments_lexer": "ipython3",
   "version": "3.9.12"
  }
 },
 "nbformat": 4,
 "nbformat_minor": 5
}
