{
 "cells": [
  {
   "cell_type": "markdown",
   "id": "2ccd1161",
   "metadata": {},
   "source": [
    "## Question 1.\n",
    "What does an empty dictionary's code look like?\n",
    "#### Answer:\n",
    "An empty dictionary is represented with an empty curl brackets.\n",
    "d = { } or d= dict()"
   ]
  },
  {
   "cell_type": "code",
   "execution_count": 3,
   "id": "fb8892ce",
   "metadata": {},
   "outputs": [
    {
     "name": "stdout",
     "output_type": "stream",
     "text": [
      "<class 'dict'>\n",
      "<class 'dict'>\n"
     ]
    }
   ],
   "source": [
    "d={}\n",
    "print(type(d))\n",
    "c = dict()\n",
    "print(type(c))"
   ]
  },
  {
   "cell_type": "markdown",
   "id": "2df267eb",
   "metadata": {},
   "source": [
    "## Question 2.\n",
    "What is the value of a dictionary value with the key 'foo' and the value 42?\n",
    "#### Answer:\n",
    "42 is the value of a dictionary with the key 'foo'."
   ]
  },
  {
   "cell_type": "code",
   "execution_count": 11,
   "id": "c1237383",
   "metadata": {},
   "outputs": [
    {
     "name": "stdout",
     "output_type": "stream",
     "text": [
      "<class 'dict'>\n",
      "Value of key foo: 42\n"
     ]
    }
   ],
   "source": [
    "d = {'foo':42,'g':44}\n",
    "print(type(d))\n",
    "print(\"Value of key foo:\",d.get('foo'))"
   ]
  },
  {
   "cell_type": "markdown",
   "id": "4ac7f0ba",
   "metadata": {},
   "source": [
    "## Question 3.\n",
    "What is the most significant distinction between a dictionary and a list?\n",
    "#### Answer:\n",
    "Dictionary are represent by { } and lists are represented by [ ]. Lists are used to store the data, which should be ordered and sequential. On the other hand, dictionary is used to store large amounts of data for easy and quick access. List is ordered and mutable, whereas dictionaries are unordered and mutable."
   ]
  },
  {
   "cell_type": "markdown",
   "id": "d6bcb066",
   "metadata": {},
   "source": [
    "## Question 4.\n",
    "What happens if you try to access spam['foo'] if spam is {'bar': 100}?\n",
    "#### Answer:\n",
    "We will get keyError if we try to acces spam['foo'] if spam is {'bar':100}"
   ]
  },
  {
   "cell_type": "code",
   "execution_count": 13,
   "id": "2ac285b1",
   "metadata": {},
   "outputs": [
    {
     "name": "stdout",
     "output_type": "stream",
     "text": [
      "<class 'dict'>\n"
     ]
    },
    {
     "ename": "KeyError",
     "evalue": "'foo'",
     "output_type": "error",
     "traceback": [
      "\u001b[1;31m---------------------------------------------------------------------------\u001b[0m",
      "\u001b[1;31mKeyError\u001b[0m                                  Traceback (most recent call last)",
      "Input \u001b[1;32mIn [13]\u001b[0m, in \u001b[0;36m<cell line: 3>\u001b[1;34m()\u001b[0m\n\u001b[0;32m      1\u001b[0m spam \u001b[38;5;241m=\u001b[39m {\u001b[38;5;124m'\u001b[39m\u001b[38;5;124mbar\u001b[39m\u001b[38;5;124m'\u001b[39m:\u001b[38;5;241m100\u001b[39m}\n\u001b[0;32m      2\u001b[0m \u001b[38;5;28mprint\u001b[39m(\u001b[38;5;28mtype\u001b[39m(spam))\n\u001b[1;32m----> 3\u001b[0m \u001b[43mspam\u001b[49m\u001b[43m[\u001b[49m\u001b[38;5;124;43m'\u001b[39;49m\u001b[38;5;124;43mfoo\u001b[39;49m\u001b[38;5;124;43m'\u001b[39;49m\u001b[43m]\u001b[49m\n",
      "\u001b[1;31mKeyError\u001b[0m: 'foo'"
     ]
    }
   ],
   "source": [
    "spam = {'bar':100}\n",
    "print(type(spam))\n",
    "spam['foo']"
   ]
  },
  {
   "cell_type": "markdown",
   "id": "90e47639",
   "metadata": {},
   "source": [
    "## Question 5.\n",
    "If a dictionary is stored in spam, what is the difference between the expressions 'cat' in spam and 'cat' in spam.keys()?\n",
    "#### Answer:\n",
    "There is no difference between the expressions 'cat' in spam and 'cat' in spam.keys(). The operator checks whether a value exits as a key in the dictionary or not."
   ]
  },
  {
   "cell_type": "markdown",
   "id": "f0f61004",
   "metadata": {},
   "source": [
    "## Question 6.\n",
    "If a dictionary is stored in spam, what is the difference between the expressions 'cat' in spam and 'cat' in spam.values()?\n",
    "#### Answer:\n",
    "'cat' in spam checks whether there is a 'cat' key in the dictionary, while 'cat' in spam.values() checks whether there is a value 'cat' for one of the keys in spam."
   ]
  },
  {
   "cell_type": "markdown",
   "id": "426cb952",
   "metadata": {},
   "source": [
    "## Question 7.\n",
    "What is a shortcut for the following code?\n",
    "\n",
    "if 'color' not in spam:spam['color'] = 'black'\n",
    "#### Answer:\n",
    "spam.setdefault('color','black')"
   ]
  },
  {
   "cell_type": "markdown",
   "id": "6223932b",
   "metadata": {},
   "source": [
    "## Question 8.\n",
    "How do you \"pretty print\" dictionary values using which module and function?\n",
    "#### Answer:\n",
    "By using three functions.\n",
    "1. by using pprint() function of pprint module.\n",
    "2. by using dumps() method of json module.\n",
    "3. by using dumps() method of yaml module."
   ]
  }
 ],
 "metadata": {
  "kernelspec": {
   "display_name": "Python 3 (ipykernel)",
   "language": "python",
   "name": "python3"
  },
  "language_info": {
   "codemirror_mode": {
    "name": "ipython",
    "version": 3
   },
   "file_extension": ".py",
   "mimetype": "text/x-python",
   "name": "python",
   "nbconvert_exporter": "python",
   "pygments_lexer": "ipython3",
   "version": "3.9.12"
  }
 },
 "nbformat": 4,
 "nbformat_minor": 5
}
